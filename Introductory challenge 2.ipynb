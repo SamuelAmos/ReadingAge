{
 "cells": [
  {
   "cell_type": "code",
   "execution_count": 6,
   "metadata": {},
   "outputs": [],
   "source": [
    "import numpy as np\n",
    "import pandas as pd\n",
    "import nltk\n",
    "from nltk.tokenize import sent_tokenize\n",
    "address= \"C:/Users/samos/OneDrive/Documents/Data Science/Introductory mini challenges/reading-age-prediction_data_ocr_data.csv\"\n",
    "ReadingAge=pd.read_csv(address)\n",
    "ReadingAge.columns=[\"Excerpt\",\"BookAndPage\",\"Age\"]\n",
    "\n",
    "ReadingAge=ReadingAge.sort_values(by=['Age'])\n",
    "\n",
    "ReadingAge.replace(np.nan, inplace=True) \n",
    "ReadingAges = ReadingAge[ReadingAge[\"Age\"] == 1]\n",
    "\n",
    "\n"
   ]
  },
  {
   "cell_type": "markdown",
   "metadata": {},
   "source": [
    "address= \"C:/Users/samos/OneDrive/Documents/Data Science/Introductory mini challenges/reading-age-prediction_data_ocr_data.csv\"\n",
    "import pandas as pd\n",
    "import numpy as np\n",
    "ReadingAge=pd.read_csv(address)\n",
    "ReadingAge.columns=[\"Excerpt\",\"BookAndPage\",\"Age\"]\n",
    "\n",
    "ReadingAge=ReadingAge.sort_values(by=['Age'])\n",
    "\n",
    "ReadingAge.replace(np.nan, inplace=True)\n",
    "ReadingAge.tail()"
   ]
  },
  {
   "cell_type": "code",
   "execution_count": 2,
   "metadata": {},
   "outputs": [
    {
     "name": "stderr",
     "output_type": "stream",
     "text": [
      "<ipython-input-2-7f8933ba6256>:2: SettingWithCopyWarning: \n",
      "A value is trying to be set on a copy of a slice from a DataFrame.\n",
      "Try using .loc[row_indexer,col_indexer] = value instead\n",
      "\n",
      "See the caveats in the documentation: https://pandas.pydata.org/pandas-docs/stable/user_guide/indexing.html#returning-a-view-versus-a-copy\n",
      "  ReadingAgeOne['number_of_words'] = ReadingAgeOne.Excerpt.apply(lambda x: len(x.split()))\n"
     ]
    },
    {
     "data": {
      "text/plain": [
       "7.883333333333334"
      ]
     },
     "execution_count": 2,
     "metadata": {},
     "output_type": "execute_result"
    }
   ],
   "source": [
    "\n",
    "ReadingAgeOne = ReadingAge[ReadingAge[\"Age\"] == 1] \n",
    "ReadingAgeOne['number_of_words'] = ReadingAgeOne.Excerpt.apply(lambda x: len(x.split()))\n",
    "ReadingAgeOne['number_of_words'].mean()\n"
   ]
  },
  {
   "cell_type": "code",
   "execution_count": 17,
   "metadata": {},
   "outputs": [
    {
     "data": {
      "text/plain": [
       "1.2166666666666666"
      ]
     },
     "execution_count": 17,
     "metadata": {},
     "output_type": "execute_result"
    }
   ],
   "source": [
    "ReadingAgeOne['tokenized_sents'] = ReadingAgeOne.apply(lambda row: nltk.sent_tokenize(row['Excerpt']), axis=1)\n",
    "ReadingAgeOne['len_tokens'] = ReadingAgeOne['tokenized_sents'].apply(lambda x: len(x))\n",
    "ReadingAgeOne['len_tokens'].mean()"
   ]
  },
  {
   "cell_type": "code",
   "execution_count": 20,
   "metadata": {},
   "outputs": [
    {
     "name": "stderr",
     "output_type": "stream",
     "text": [
      "<ipython-input-20-df7e2f9838dc>:1: SettingWithCopyWarning: \n",
      "A value is trying to be set on a copy of a slice from a DataFrame.\n",
      "Try using .loc[row_indexer,col_indexer] = value instead\n",
      "\n",
      "See the caveats in the documentation: https://pandas.pydata.org/pandas-docs/stable/user_guide/indexing.html#returning-a-view-versus-a-copy\n",
      "  ReadingAgeTwo['tokenized_sents'] = ReadingAgeTwo.apply(lambda row: nltk.sent_tokenize(row['Excerpt']), axis=1)\n",
      "<ipython-input-20-df7e2f9838dc>:2: SettingWithCopyWarning: \n",
      "A value is trying to be set on a copy of a slice from a DataFrame.\n",
      "Try using .loc[row_indexer,col_indexer] = value instead\n",
      "\n",
      "See the caveats in the documentation: https://pandas.pydata.org/pandas-docs/stable/user_guide/indexing.html#returning-a-view-versus-a-copy\n",
      "  ReadingAgeTwo['len_tokens'] = ReadingAgeTwo['tokenized_sents'].apply(lambda x: len(x))\n"
     ]
    },
    {
     "data": {
      "text/plain": [
       "1.402061855670103"
      ]
     },
     "execution_count": 20,
     "metadata": {},
     "output_type": "execute_result"
    }
   ],
   "source": [
    "ReadingAgeTwo['tokenized_sents'] = ReadingAgeTwo.apply(lambda row: nltk.sent_tokenize(row['Excerpt']), axis=1)\n",
    "ReadingAgeTwo['len_tokens'] = ReadingAgeTwo['tokenized_sents'].apply(lambda x: len(x))\n",
    "ReadingAgeTwo['len_tokens'].mean()"
   ]
  },
  {
   "cell_type": "code",
   "execution_count": 19,
   "metadata": {},
   "outputs": [
    {
     "name": "stderr",
     "output_type": "stream",
     "text": [
      "<ipython-input-19-0da3629d8426>:2: SettingWithCopyWarning: \n",
      "A value is trying to be set on a copy of a slice from a DataFrame.\n",
      "Try using .loc[row_indexer,col_indexer] = value instead\n",
      "\n",
      "See the caveats in the documentation: https://pandas.pydata.org/pandas-docs/stable/user_guide/indexing.html#returning-a-view-versus-a-copy\n",
      "  ReadingAgeTwo['number_of_words'] = ReadingAgeTwo.Excerpt.apply(lambda x: len(x.split()))\n"
     ]
    },
    {
     "data": {
      "text/plain": [
       "10.938144329896907"
      ]
     },
     "execution_count": 19,
     "metadata": {},
     "output_type": "execute_result"
    }
   ],
   "source": [
    "ReadingAgeTwo = ReadingAge[ReadingAge[\"Age\"] == 2] \n",
    "ReadingAgeTwo['number_of_words'] = ReadingAgeTwo.Excerpt.apply(lambda x: len(x.split()))\n",
    "ReadingAgeTwo['number_of_words'].mean()\n"
   ]
  },
  {
   "cell_type": "code",
   "execution_count": 22,
   "metadata": {},
   "outputs": [
    {
     "name": "stderr",
     "output_type": "stream",
     "text": [
      "<ipython-input-22-2fef0a8246cb>:2: SettingWithCopyWarning: \n",
      "A value is trying to be set on a copy of a slice from a DataFrame.\n",
      "Try using .loc[row_indexer,col_indexer] = value instead\n",
      "\n",
      "See the caveats in the documentation: https://pandas.pydata.org/pandas-docs/stable/user_guide/indexing.html#returning-a-view-versus-a-copy\n",
      "  ReadingAgeThree['number_of_words'] = ReadingAgeThree.Excerpt.apply(lambda x: len(x.split()))\n"
     ]
    },
    {
     "data": {
      "text/plain": [
       "9.81021897810219"
      ]
     },
     "execution_count": 22,
     "metadata": {},
     "output_type": "execute_result"
    }
   ],
   "source": [
    "ReadingAgeThree = ReadingAge[ReadingAge[\"Age\"] == 3] \n",
    "ReadingAgeThree['number_of_words'] = ReadingAgeThree.Excerpt.apply(lambda x: len(x.split()))\n",
    "ReadingAgeThree['number_of_words'].mean()"
   ]
  },
  {
   "cell_type": "code",
   "execution_count": 23,
   "metadata": {},
   "outputs": [
    {
     "name": "stderr",
     "output_type": "stream",
     "text": [
      "<ipython-input-23-24a324389095>:1: SettingWithCopyWarning: \n",
      "A value is trying to be set on a copy of a slice from a DataFrame.\n",
      "Try using .loc[row_indexer,col_indexer] = value instead\n",
      "\n",
      "See the caveats in the documentation: https://pandas.pydata.org/pandas-docs/stable/user_guide/indexing.html#returning-a-view-versus-a-copy\n",
      "  ReadingAgeThree['tokenized_sents'] = ReadingAgeThree.apply(lambda row: nltk.sent_tokenize(row['Excerpt']), axis=1)\n",
      "<ipython-input-23-24a324389095>:2: SettingWithCopyWarning: \n",
      "A value is trying to be set on a copy of a slice from a DataFrame.\n",
      "Try using .loc[row_indexer,col_indexer] = value instead\n",
      "\n",
      "See the caveats in the documentation: https://pandas.pydata.org/pandas-docs/stable/user_guide/indexing.html#returning-a-view-versus-a-copy\n",
      "  ReadingAgeThree['len_tokens'] = ReadingAgeThree['tokenized_sents'].apply(lambda x: len(x))\n"
     ]
    },
    {
     "data": {
      "text/plain": [
       "1.6423357664233578"
      ]
     },
     "execution_count": 23,
     "metadata": {},
     "output_type": "execute_result"
    }
   ],
   "source": [
    "ReadingAgeThree['tokenized_sents'] = ReadingAgeThree.apply(lambda row: nltk.sent_tokenize(row['Excerpt']), axis=1)\n",
    "ReadingAgeThree['len_tokens'] = ReadingAgeThree['tokenized_sents'].apply(lambda x: len(x))\n",
    "ReadingAgeThree['len_tokens'].mean()"
   ]
  },
  {
   "cell_type": "code",
   "execution_count": 24,
   "metadata": {},
   "outputs": [
    {
     "name": "stderr",
     "output_type": "stream",
     "text": [
      "<ipython-input-24-3b3dcea2f5b8>:2: SettingWithCopyWarning: \n",
      "A value is trying to be set on a copy of a slice from a DataFrame.\n",
      "Try using .loc[row_indexer,col_indexer] = value instead\n",
      "\n",
      "See the caveats in the documentation: https://pandas.pydata.org/pandas-docs/stable/user_guide/indexing.html#returning-a-view-versus-a-copy\n",
      "  ReadingAgeFour['number_of_words'] = ReadingAgeFour.Excerpt.apply(lambda x: len(x.split()))\n"
     ]
    },
    {
     "data": {
      "text/plain": [
       "13.336507936507937"
      ]
     },
     "execution_count": 24,
     "metadata": {},
     "output_type": "execute_result"
    }
   ],
   "source": [
    "ReadingAgeFour = ReadingAge[ReadingAge[\"Age\"] == 4] \n",
    "ReadingAgeFour['number_of_words'] = ReadingAgeFour.Excerpt.apply(lambda x: len(x.split()))\n",
    "ReadingAgeFour['number_of_words'].mean()"
   ]
  },
  {
   "cell_type": "code",
   "execution_count": 25,
   "metadata": {},
   "outputs": [
    {
     "name": "stderr",
     "output_type": "stream",
     "text": [
      "<ipython-input-25-85005f9335ca>:1: SettingWithCopyWarning: \n",
      "A value is trying to be set on a copy of a slice from a DataFrame.\n",
      "Try using .loc[row_indexer,col_indexer] = value instead\n",
      "\n",
      "See the caveats in the documentation: https://pandas.pydata.org/pandas-docs/stable/user_guide/indexing.html#returning-a-view-versus-a-copy\n",
      "  ReadingAgeFour['tokenized_sents'] = ReadingAgeFour.apply(lambda row: nltk.sent_tokenize(row['Excerpt']), axis=1)\n",
      "<ipython-input-25-85005f9335ca>:2: SettingWithCopyWarning: \n",
      "A value is trying to be set on a copy of a slice from a DataFrame.\n",
      "Try using .loc[row_indexer,col_indexer] = value instead\n",
      "\n",
      "See the caveats in the documentation: https://pandas.pydata.org/pandas-docs/stable/user_guide/indexing.html#returning-a-view-versus-a-copy\n",
      "  ReadingAgeFour['len_tokens'] = ReadingAgeFour['tokenized_sents'].apply(lambda x: len(x))\n"
     ]
    },
    {
     "data": {
      "text/plain": [
       "1.9936507936507937"
      ]
     },
     "execution_count": 25,
     "metadata": {},
     "output_type": "execute_result"
    }
   ],
   "source": [
    "ReadingAgeFour['tokenized_sents'] = ReadingAgeFour.apply(lambda row: nltk.sent_tokenize(row['Excerpt']), axis=1)\n",
    "ReadingAgeFour['len_tokens'] = ReadingAgeFour['tokenized_sents'].apply(lambda x: len(x))\n",
    "ReadingAgeFour['len_tokens'].mean()"
   ]
  },
  {
   "cell_type": "code",
   "execution_count": 26,
   "metadata": {},
   "outputs": [
    {
     "name": "stderr",
     "output_type": "stream",
     "text": [
      "<ipython-input-26-dfa84af0ac42>:2: SettingWithCopyWarning: \n",
      "A value is trying to be set on a copy of a slice from a DataFrame.\n",
      "Try using .loc[row_indexer,col_indexer] = value instead\n",
      "\n",
      "See the caveats in the documentation: https://pandas.pydata.org/pandas-docs/stable/user_guide/indexing.html#returning-a-view-versus-a-copy\n",
      "  ReadingAgeFive['number_of_words'] = ReadingAgeFive.Excerpt.apply(lambda x: len(x.split()))\n"
     ]
    },
    {
     "data": {
      "text/plain": [
       "17.945945945945947"
      ]
     },
     "execution_count": 26,
     "metadata": {},
     "output_type": "execute_result"
    }
   ],
   "source": [
    "ReadingAgeFive = ReadingAge[ReadingAge[\"Age\"] == 5] \n",
    "ReadingAgeFive['number_of_words'] = ReadingAgeFive.Excerpt.apply(lambda x: len(x.split()))\n",
    "ReadingAgeFive['number_of_words'].mean()"
   ]
  },
  {
   "cell_type": "code",
   "execution_count": 27,
   "metadata": {},
   "outputs": [
    {
     "name": "stderr",
     "output_type": "stream",
     "text": [
      "<ipython-input-27-75891fcc34ef>:1: SettingWithCopyWarning: \n",
      "A value is trying to be set on a copy of a slice from a DataFrame.\n",
      "Try using .loc[row_indexer,col_indexer] = value instead\n",
      "\n",
      "See the caveats in the documentation: https://pandas.pydata.org/pandas-docs/stable/user_guide/indexing.html#returning-a-view-versus-a-copy\n",
      "  ReadingAgeFive['tokenized_sents'] = ReadingAgeFive.apply(lambda row: nltk.sent_tokenize(row['Excerpt']), axis=1)\n",
      "<ipython-input-27-75891fcc34ef>:2: SettingWithCopyWarning: \n",
      "A value is trying to be set on a copy of a slice from a DataFrame.\n",
      "Try using .loc[row_indexer,col_indexer] = value instead\n",
      "\n",
      "See the caveats in the documentation: https://pandas.pydata.org/pandas-docs/stable/user_guide/indexing.html#returning-a-view-versus-a-copy\n",
      "  ReadingAgeFive['len_tokens'] = ReadingAgeFive['tokenized_sents'].apply(lambda x: len(x))\n"
     ]
    },
    {
     "data": {
      "text/plain": [
       "2.5705705705705704"
      ]
     },
     "execution_count": 27,
     "metadata": {},
     "output_type": "execute_result"
    }
   ],
   "source": [
    "ReadingAgeFive['tokenized_sents'] = ReadingAgeFive.apply(lambda row: nltk.sent_tokenize(row['Excerpt']), axis=1)\n",
    "ReadingAgeFive['len_tokens'] = ReadingAgeFive['tokenized_sents'].apply(lambda x: len(x))\n",
    "ReadingAgeFive['len_tokens'].mean()"
   ]
  },
  {
   "cell_type": "code",
   "execution_count": 28,
   "metadata": {},
   "outputs": [
    {
     "name": "stderr",
     "output_type": "stream",
     "text": [
      "<ipython-input-28-bc01f118989f>:2: SettingWithCopyWarning: \n",
      "A value is trying to be set on a copy of a slice from a DataFrame.\n",
      "Try using .loc[row_indexer,col_indexer] = value instead\n",
      "\n",
      "See the caveats in the documentation: https://pandas.pydata.org/pandas-docs/stable/user_guide/indexing.html#returning-a-view-versus-a-copy\n",
      "  ReadingAgeSix['number_of_words'] = ReadingAgeSix.Excerpt.apply(lambda x: len(x.split()))\n"
     ]
    },
    {
     "data": {
      "text/plain": [
       "30.35151515151515"
      ]
     },
     "execution_count": 28,
     "metadata": {},
     "output_type": "execute_result"
    }
   ],
   "source": [
    "ReadingAgeSix = ReadingAge[ReadingAge[\"Age\"] == 6] \n",
    "ReadingAgeSix['number_of_words'] = ReadingAgeSix.Excerpt.apply(lambda x: len(x.split()))\n",
    "ReadingAgeSix['number_of_words'].mean()"
   ]
  },
  {
   "cell_type": "code",
   "execution_count": 29,
   "metadata": {},
   "outputs": [
    {
     "name": "stderr",
     "output_type": "stream",
     "text": [
      "<ipython-input-29-a48d2b22c3dc>:1: SettingWithCopyWarning: \n",
      "A value is trying to be set on a copy of a slice from a DataFrame.\n",
      "Try using .loc[row_indexer,col_indexer] = value instead\n",
      "\n",
      "See the caveats in the documentation: https://pandas.pydata.org/pandas-docs/stable/user_guide/indexing.html#returning-a-view-versus-a-copy\n",
      "  ReadingAgeSix['tokenized_sents'] = ReadingAgeSix.apply(lambda row: nltk.sent_tokenize(row['Excerpt']), axis=1)\n",
      "<ipython-input-29-a48d2b22c3dc>:2: SettingWithCopyWarning: \n",
      "A value is trying to be set on a copy of a slice from a DataFrame.\n",
      "Try using .loc[row_indexer,col_indexer] = value instead\n",
      "\n",
      "See the caveats in the documentation: https://pandas.pydata.org/pandas-docs/stable/user_guide/indexing.html#returning-a-view-versus-a-copy\n",
      "  ReadingAgeSix['len_tokens'] = ReadingAgeSix['tokenized_sents'].apply(lambda x: len(x))\n"
     ]
    },
    {
     "data": {
      "text/plain": [
       "3.409090909090909"
      ]
     },
     "execution_count": 29,
     "metadata": {},
     "output_type": "execute_result"
    }
   ],
   "source": [
    "ReadingAgeSix['tokenized_sents'] = ReadingAgeSix.apply(lambda row: nltk.sent_tokenize(row['Excerpt']), axis=1)\n",
    "ReadingAgeSix['len_tokens'] = ReadingAgeSix['tokenized_sents'].apply(lambda x: len(x))\n",
    "ReadingAgeSix['len_tokens'].mean()"
   ]
  },
  {
   "cell_type": "code",
   "execution_count": 31,
   "metadata": {},
   "outputs": [
    {
     "name": "stderr",
     "output_type": "stream",
     "text": [
      "<ipython-input-31-0a67b4793a5b>:2: SettingWithCopyWarning: \n",
      "A value is trying to be set on a copy of a slice from a DataFrame.\n",
      "Try using .loc[row_indexer,col_indexer] = value instead\n",
      "\n",
      "See the caveats in the documentation: https://pandas.pydata.org/pandas-docs/stable/user_guide/indexing.html#returning-a-view-versus-a-copy\n",
      "  ReadingAgeSeven['number_of_words'] = ReadingAgeSeven.Excerpt.apply(lambda x: len(x.split()))\n"
     ]
    },
    {
     "data": {
      "text/plain": [
       "35.137667304015295"
      ]
     },
     "execution_count": 31,
     "metadata": {},
     "output_type": "execute_result"
    }
   ],
   "source": [
    "ReadingAgeSeven = ReadingAge[ReadingAge[\"Age\"] == 7] \n",
    "ReadingAgeSeven['number_of_words'] = ReadingAgeSeven.Excerpt.apply(lambda x: len(x.split()))\n",
    "ReadingAgeSeven['number_of_words'].mean()"
   ]
  },
  {
   "cell_type": "code",
   "execution_count": 32,
   "metadata": {},
   "outputs": [
    {
     "name": "stderr",
     "output_type": "stream",
     "text": [
      "<ipython-input-32-19ecdb0639e0>:1: SettingWithCopyWarning: \n",
      "A value is trying to be set on a copy of a slice from a DataFrame.\n",
      "Try using .loc[row_indexer,col_indexer] = value instead\n",
      "\n",
      "See the caveats in the documentation: https://pandas.pydata.org/pandas-docs/stable/user_guide/indexing.html#returning-a-view-versus-a-copy\n",
      "  ReadingAgeSeven['tokenized_sents'] = ReadingAgeSeven.apply(lambda row: nltk.sent_tokenize(row['Excerpt']), axis=1)\n",
      "<ipython-input-32-19ecdb0639e0>:2: SettingWithCopyWarning: \n",
      "A value is trying to be set on a copy of a slice from a DataFrame.\n",
      "Try using .loc[row_indexer,col_indexer] = value instead\n",
      "\n",
      "See the caveats in the documentation: https://pandas.pydata.org/pandas-docs/stable/user_guide/indexing.html#returning-a-view-versus-a-copy\n",
      "  ReadingAgeSeven['len_tokens'] = ReadingAgeSeven['tokenized_sents'].apply(lambda x: len(x))\n"
     ]
    },
    {
     "data": {
      "text/plain": [
       "3.994263862332696"
      ]
     },
     "execution_count": 32,
     "metadata": {},
     "output_type": "execute_result"
    }
   ],
   "source": [
    "ReadingAgeSeven['tokenized_sents'] = ReadingAgeSeven.apply(lambda row: nltk.sent_tokenize(row['Excerpt']), axis=1)\n",
    "ReadingAgeSeven['len_tokens'] = ReadingAgeSeven['tokenized_sents'].apply(lambda x: len(x))\n",
    "ReadingAgeSeven['len_tokens'].mean()"
   ]
  },
  {
   "cell_type": "code",
   "execution_count": 37,
   "metadata": {},
   "outputs": [
    {
     "name": "stderr",
     "output_type": "stream",
     "text": [
      "<ipython-input-37-657505c42a0c>:2: SettingWithCopyWarning: \n",
      "A value is trying to be set on a copy of a slice from a DataFrame.\n",
      "Try using .loc[row_indexer,col_indexer] = value instead\n",
      "\n",
      "See the caveats in the documentation: https://pandas.pydata.org/pandas-docs/stable/user_guide/indexing.html#returning-a-view-versus-a-copy\n",
      "  ReadingAgeEight['number_of_words'] = ReadingAgeEight.Excerpt.apply(lambda x: len(x.split()))\n"
     ]
    },
    {
     "data": {
      "text/plain": [
       "39.80372492836676"
      ]
     },
     "execution_count": 37,
     "metadata": {},
     "output_type": "execute_result"
    }
   ],
   "source": [
    "ReadingAgeEight = ReadingAge[ReadingAge[\"Age\"] == 8] \n",
    "ReadingAgeEight['number_of_words'] = ReadingAgeEight.Excerpt.apply(lambda x: len(x.split()))\n",
    "ReadingAgeEight['number_of_words'].mean()"
   ]
  },
  {
   "cell_type": "code",
   "execution_count": 38,
   "metadata": {},
   "outputs": [
    {
     "name": "stderr",
     "output_type": "stream",
     "text": [
      "<ipython-input-38-bf16703f7211>:1: SettingWithCopyWarning: \n",
      "A value is trying to be set on a copy of a slice from a DataFrame.\n",
      "Try using .loc[row_indexer,col_indexer] = value instead\n",
      "\n",
      "See the caveats in the documentation: https://pandas.pydata.org/pandas-docs/stable/user_guide/indexing.html#returning-a-view-versus-a-copy\n",
      "  ReadingAgeEight['tokenized_sents'] = ReadingAgeEight.apply(lambda row: nltk.sent_tokenize(row['Excerpt']), axis=1)\n",
      "<ipython-input-38-bf16703f7211>:2: SettingWithCopyWarning: \n",
      "A value is trying to be set on a copy of a slice from a DataFrame.\n",
      "Try using .loc[row_indexer,col_indexer] = value instead\n",
      "\n",
      "See the caveats in the documentation: https://pandas.pydata.org/pandas-docs/stable/user_guide/indexing.html#returning-a-view-versus-a-copy\n",
      "  ReadingAgeEight['len_tokens'] = ReadingAgeEight['tokenized_sents'].apply(lambda x: len(x))\n"
     ]
    },
    {
     "data": {
      "text/plain": [
       "4.373925501432665"
      ]
     },
     "execution_count": 38,
     "metadata": {},
     "output_type": "execute_result"
    }
   ],
   "source": [
    "ReadingAgeEight['tokenized_sents'] = ReadingAgeEight.apply(lambda row: nltk.sent_tokenize(row['Excerpt']), axis=1)\n",
    "ReadingAgeEight['len_tokens'] = ReadingAgeEight['tokenized_sents'].apply(lambda x: len(x))\n",
    "ReadingAgeEight['len_tokens'].mean()"
   ]
  },
  {
   "cell_type": "code",
   "execution_count": 39,
   "metadata": {},
   "outputs": [
    {
     "name": "stderr",
     "output_type": "stream",
     "text": [
      "<ipython-input-39-308f6b8da860>:2: SettingWithCopyWarning: \n",
      "A value is trying to be set on a copy of a slice from a DataFrame.\n",
      "Try using .loc[row_indexer,col_indexer] = value instead\n",
      "\n",
      "See the caveats in the documentation: https://pandas.pydata.org/pandas-docs/stable/user_guide/indexing.html#returning-a-view-versus-a-copy\n",
      "  ReadingAgeNine['number_of_words'] = ReadingAgeNine.Excerpt.apply(lambda x: len(x.split()))\n"
     ]
    },
    {
     "data": {
      "text/plain": [
       "47.21046511627907"
      ]
     },
     "execution_count": 39,
     "metadata": {},
     "output_type": "execute_result"
    }
   ],
   "source": [
    "ReadingAgeNine = ReadingAge[ReadingAge[\"Age\"] == 9] \n",
    "ReadingAgeNine['number_of_words'] = ReadingAgeNine.Excerpt.apply(lambda x: len(x.split()))\n",
    "ReadingAgeNine['number_of_words'].mean()"
   ]
  },
  {
   "cell_type": "code",
   "execution_count": 40,
   "metadata": {},
   "outputs": [
    {
     "name": "stderr",
     "output_type": "stream",
     "text": [
      "<ipython-input-40-e8321571fd54>:1: SettingWithCopyWarning: \n",
      "A value is trying to be set on a copy of a slice from a DataFrame.\n",
      "Try using .loc[row_indexer,col_indexer] = value instead\n",
      "\n",
      "See the caveats in the documentation: https://pandas.pydata.org/pandas-docs/stable/user_guide/indexing.html#returning-a-view-versus-a-copy\n",
      "  ReadingAgeNine['tokenized_sents'] = ReadingAgeNine.apply(lambda row: nltk.sent_tokenize(row['Excerpt']), axis=1)\n",
      "<ipython-input-40-e8321571fd54>:2: SettingWithCopyWarning: \n",
      "A value is trying to be set on a copy of a slice from a DataFrame.\n",
      "Try using .loc[row_indexer,col_indexer] = value instead\n",
      "\n",
      "See the caveats in the documentation: https://pandas.pydata.org/pandas-docs/stable/user_guide/indexing.html#returning-a-view-versus-a-copy\n",
      "  ReadingAgeNine['len_tokens'] = ReadingAgeNine['tokenized_sents'].apply(lambda x: len(x))\n"
     ]
    },
    {
     "data": {
      "text/plain": [
       "4.843023255813954"
      ]
     },
     "execution_count": 40,
     "metadata": {},
     "output_type": "execute_result"
    }
   ],
   "source": [
    "ReadingAgeNine['tokenized_sents'] = ReadingAgeNine.apply(lambda row: nltk.sent_tokenize(row['Excerpt']), axis=1)\n",
    "ReadingAgeNine['len_tokens'] = ReadingAgeNine['tokenized_sents'].apply(lambda x: len(x))\n",
    "ReadingAgeNine['len_tokens'].mean()"
   ]
  },
  {
   "cell_type": "code",
   "execution_count": 42,
   "metadata": {},
   "outputs": [
    {
     "name": "stderr",
     "output_type": "stream",
     "text": [
      "<ipython-input-42-c48d9fc90c52>:2: SettingWithCopyWarning: \n",
      "A value is trying to be set on a copy of a slice from a DataFrame.\n",
      "Try using .loc[row_indexer,col_indexer] = value instead\n",
      "\n",
      "See the caveats in the documentation: https://pandas.pydata.org/pandas-docs/stable/user_guide/indexing.html#returning-a-view-versus-a-copy\n",
      "  ReadingAgeTen['number_of_words'] = ReadingAgeTen.Excerpt.apply(lambda x: len(x.split()))\n"
     ]
    },
    {
     "data": {
      "text/plain": [
       "52.099635479951395"
      ]
     },
     "execution_count": 42,
     "metadata": {},
     "output_type": "execute_result"
    }
   ],
   "source": [
    "ReadingAgeTen = ReadingAge[ReadingAge[\"Age\"] == 10] \n",
    "ReadingAgeTen['number_of_words'] = ReadingAgeTen.Excerpt.apply(lambda x: len(x.split()))\n",
    "ReadingAgeTen['number_of_words'].mean()"
   ]
  },
  {
   "cell_type": "code",
   "execution_count": 43,
   "metadata": {},
   "outputs": [
    {
     "name": "stderr",
     "output_type": "stream",
     "text": [
      "<ipython-input-43-e7c7c9437be5>:1: SettingWithCopyWarning: \n",
      "A value is trying to be set on a copy of a slice from a DataFrame.\n",
      "Try using .loc[row_indexer,col_indexer] = value instead\n",
      "\n",
      "See the caveats in the documentation: https://pandas.pydata.org/pandas-docs/stable/user_guide/indexing.html#returning-a-view-versus-a-copy\n",
      "  ReadingAgeTen['tokenized_sents'] = ReadingAgeTen.apply(lambda row: nltk.sent_tokenize(row['Excerpt']), axis=1)\n",
      "<ipython-input-43-e7c7c9437be5>:2: SettingWithCopyWarning: \n",
      "A value is trying to be set on a copy of a slice from a DataFrame.\n",
      "Try using .loc[row_indexer,col_indexer] = value instead\n",
      "\n",
      "See the caveats in the documentation: https://pandas.pydata.org/pandas-docs/stable/user_guide/indexing.html#returning-a-view-versus-a-copy\n",
      "  ReadingAgeTen['len_tokens'] = ReadingAgeTen['tokenized_sents'].apply(lambda x: len(x))\n"
     ]
    },
    {
     "data": {
      "text/plain": [
       "5.173754556500607"
      ]
     },
     "execution_count": 43,
     "metadata": {},
     "output_type": "execute_result"
    }
   ],
   "source": [
    "ReadingAgeTen['tokenized_sents'] = ReadingAgeTen.apply(lambda row: nltk.sent_tokenize(row['Excerpt']), axis=1)\n",
    "ReadingAgeTen['len_tokens'] = ReadingAgeTen['tokenized_sents'].apply(lambda x: len(x))\n",
    "ReadingAgeTen['len_tokens'].mean()"
   ]
  },
  {
   "cell_type": "code",
   "execution_count": 44,
   "metadata": {},
   "outputs": [
    {
     "name": "stderr",
     "output_type": "stream",
     "text": [
      "<ipython-input-44-09816d599851>:2: SettingWithCopyWarning: \n",
      "A value is trying to be set on a copy of a slice from a DataFrame.\n",
      "Try using .loc[row_indexer,col_indexer] = value instead\n",
      "\n",
      "See the caveats in the documentation: https://pandas.pydata.org/pandas-docs/stable/user_guide/indexing.html#returning-a-view-versus-a-copy\n",
      "  ReadingAgeEleven['number_of_words'] = ReadingAgeEleven.Excerpt.apply(lambda x: len(x.split()))\n"
     ]
    },
    {
     "data": {
      "text/plain": [
       "60.04179728317659"
      ]
     },
     "execution_count": 44,
     "metadata": {},
     "output_type": "execute_result"
    }
   ],
   "source": [
    "ReadingAgeEleven = ReadingAge[ReadingAge[\"Age\"] == 11] \n",
    "ReadingAgeEleven['number_of_words'] = ReadingAgeEleven.Excerpt.apply(lambda x: len(x.split()))\n",
    "ReadingAgeEleven['number_of_words'].mean()"
   ]
  },
  {
   "cell_type": "code",
   "execution_count": 45,
   "metadata": {},
   "outputs": [
    {
     "name": "stderr",
     "output_type": "stream",
     "text": [
      "<ipython-input-45-a4eea89379eb>:1: SettingWithCopyWarning: \n",
      "A value is trying to be set on a copy of a slice from a DataFrame.\n",
      "Try using .loc[row_indexer,col_indexer] = value instead\n",
      "\n",
      "See the caveats in the documentation: https://pandas.pydata.org/pandas-docs/stable/user_guide/indexing.html#returning-a-view-versus-a-copy\n",
      "  ReadingAgeEleven['tokenized_sents'] = ReadingAgeEleven.apply(lambda row: nltk.sent_tokenize(row['Excerpt']), axis=1)\n",
      "<ipython-input-45-a4eea89379eb>:2: SettingWithCopyWarning: \n",
      "A value is trying to be set on a copy of a slice from a DataFrame.\n",
      "Try using .loc[row_indexer,col_indexer] = value instead\n",
      "\n",
      "See the caveats in the documentation: https://pandas.pydata.org/pandas-docs/stable/user_guide/indexing.html#returning-a-view-versus-a-copy\n",
      "  ReadingAgeEleven['len_tokens'] = ReadingAgeEleven['tokenized_sents'].apply(lambda x: len(x))\n"
     ]
    },
    {
     "data": {
      "text/plain": [
       "5.753396029258099"
      ]
     },
     "execution_count": 45,
     "metadata": {},
     "output_type": "execute_result"
    }
   ],
   "source": [
    "ReadingAgeEleven['tokenized_sents'] = ReadingAgeEleven.apply(lambda row: nltk.sent_tokenize(row['Excerpt']), axis=1)\n",
    "ReadingAgeEleven['len_tokens'] = ReadingAgeEleven['tokenized_sents'].apply(lambda x: len(x))\n",
    "ReadingAgeEleven['len_tokens'].mean()"
   ]
  },
  {
   "cell_type": "code",
   "execution_count": 46,
   "metadata": {},
   "outputs": [
    {
     "name": "stderr",
     "output_type": "stream",
     "text": [
      "<ipython-input-46-708da6ef05dc>:2: SettingWithCopyWarning: \n",
      "A value is trying to be set on a copy of a slice from a DataFrame.\n",
      "Try using .loc[row_indexer,col_indexer] = value instead\n",
      "\n",
      "See the caveats in the documentation: https://pandas.pydata.org/pandas-docs/stable/user_guide/indexing.html#returning-a-view-versus-a-copy\n",
      "  ReadingAgeTwelve['number_of_words'] = ReadingAgeTwelve.Excerpt.apply(lambda x: len(x.split()))\n"
     ]
    },
    {
     "data": {
      "text/plain": [
       "56.421171171171174"
      ]
     },
     "execution_count": 46,
     "metadata": {},
     "output_type": "execute_result"
    }
   ],
   "source": [
    "ReadingAgeTwelve = ReadingAge[ReadingAge[\"Age\"] == 12] \n",
    "ReadingAgeTwelve['number_of_words'] = ReadingAgeTwelve.Excerpt.apply(lambda x: len(x.split()))\n",
    "ReadingAgeTwelve['number_of_words'].mean()"
   ]
  },
  {
   "cell_type": "code",
   "execution_count": 48,
   "metadata": {},
   "outputs": [
    {
     "name": "stderr",
     "output_type": "stream",
     "text": [
      "<ipython-input-48-f6447f355b5a>:1: SettingWithCopyWarning: \n",
      "A value is trying to be set on a copy of a slice from a DataFrame.\n",
      "Try using .loc[row_indexer,col_indexer] = value instead\n",
      "\n",
      "See the caveats in the documentation: https://pandas.pydata.org/pandas-docs/stable/user_guide/indexing.html#returning-a-view-versus-a-copy\n",
      "  ReadingAgeTwelve['tokenized_sents'] = ReadingAgeTwelve.apply(lambda row: nltk.sent_tokenize(row['Excerpt']), axis=1)\n",
      "<ipython-input-48-f6447f355b5a>:2: SettingWithCopyWarning: \n",
      "A value is trying to be set on a copy of a slice from a DataFrame.\n",
      "Try using .loc[row_indexer,col_indexer] = value instead\n",
      "\n",
      "See the caveats in the documentation: https://pandas.pydata.org/pandas-docs/stable/user_guide/indexing.html#returning-a-view-versus-a-copy\n",
      "  ReadingAgeTwelve['len_tokens'] = ReadingAgeTwelve['tokenized_sents'].apply(lambda x: len(x))\n"
     ]
    },
    {
     "data": {
      "text/plain": [
       "5.592342342342342"
      ]
     },
     "execution_count": 48,
     "metadata": {},
     "output_type": "execute_result"
    }
   ],
   "source": [
    "ReadingAgeTwelve['tokenized_sents'] = ReadingAgeTwelve.apply(lambda row: nltk.sent_tokenize(row['Excerpt']), axis=1)\n",
    "ReadingAgeTwelve['len_tokens'] = ReadingAgeTwelve['tokenized_sents'].apply(lambda x: len(x))\n",
    "ReadingAgeTwelve['len_tokens'].mean()"
   ]
  },
  {
   "cell_type": "code",
   "execution_count": 49,
   "metadata": {},
   "outputs": [
    {
     "name": "stderr",
     "output_type": "stream",
     "text": [
      "<ipython-input-49-f43f3fbdca04>:2: SettingWithCopyWarning: \n",
      "A value is trying to be set on a copy of a slice from a DataFrame.\n",
      "Try using .loc[row_indexer,col_indexer] = value instead\n",
      "\n",
      "See the caveats in the documentation: https://pandas.pydata.org/pandas-docs/stable/user_guide/indexing.html#returning-a-view-versus-a-copy\n",
      "  ReadingAgeThirt['number_of_words'] = ReadingAgeThirt.Excerpt.apply(lambda x: len(x.split()))\n"
     ]
    },
    {
     "data": {
      "text/plain": [
       "65.78688524590164"
      ]
     },
     "execution_count": 49,
     "metadata": {},
     "output_type": "execute_result"
    }
   ],
   "source": [
    "ReadingAgeThirt = ReadingAge[ReadingAge[\"Age\"] == 13] \n",
    "ReadingAgeThirt['number_of_words'] = ReadingAgeThirt.Excerpt.apply(lambda x: len(x.split()))\n",
    "ReadingAgeThirt['number_of_words'].mean()"
   ]
  },
  {
   "cell_type": "code",
   "execution_count": 50,
   "metadata": {},
   "outputs": [
    {
     "name": "stderr",
     "output_type": "stream",
     "text": [
      "<ipython-input-50-1cef7b1174fc>:1: SettingWithCopyWarning: \n",
      "A value is trying to be set on a copy of a slice from a DataFrame.\n",
      "Try using .loc[row_indexer,col_indexer] = value instead\n",
      "\n",
      "See the caveats in the documentation: https://pandas.pydata.org/pandas-docs/stable/user_guide/indexing.html#returning-a-view-versus-a-copy\n",
      "  ReadingAgeThirt['tokenized_sents'] = ReadingAgeThirt.apply(lambda row: nltk.sent_tokenize(row['Excerpt']), axis=1)\n",
      "<ipython-input-50-1cef7b1174fc>:2: SettingWithCopyWarning: \n",
      "A value is trying to be set on a copy of a slice from a DataFrame.\n",
      "Try using .loc[row_indexer,col_indexer] = value instead\n",
      "\n",
      "See the caveats in the documentation: https://pandas.pydata.org/pandas-docs/stable/user_guide/indexing.html#returning-a-view-versus-a-copy\n",
      "  ReadingAgeThirt['len_tokens'] = ReadingAgeThirt['tokenized_sents'].apply(lambda x: len(x))\n"
     ]
    },
    {
     "data": {
      "text/plain": [
       "6.463114754098361"
      ]
     },
     "execution_count": 50,
     "metadata": {},
     "output_type": "execute_result"
    }
   ],
   "source": [
    "ReadingAgeThirt['tokenized_sents'] = ReadingAgeThirt.apply(lambda row: nltk.sent_tokenize(row['Excerpt']), axis=1)\n",
    "ReadingAgeThirt['len_tokens'] = ReadingAgeThirt['tokenized_sents'].apply(lambda x: len(x))\n",
    "ReadingAgeThirt['len_tokens'].mean()"
   ]
  },
  {
   "cell_type": "code",
   "execution_count": 51,
   "metadata": {},
   "outputs": [
    {
     "name": "stderr",
     "output_type": "stream",
     "text": [
      "<ipython-input-51-9e3b27761105>:2: SettingWithCopyWarning: \n",
      "A value is trying to be set on a copy of a slice from a DataFrame.\n",
      "Try using .loc[row_indexer,col_indexer] = value instead\n",
      "\n",
      "See the caveats in the documentation: https://pandas.pydata.org/pandas-docs/stable/user_guide/indexing.html#returning-a-view-versus-a-copy\n",
      "  ReadingAgeFourt['number_of_words'] = ReadingAgeFourt.Excerpt.apply(lambda x: len(x.split()))\n"
     ]
    },
    {
     "data": {
      "text/plain": [
       "65.97877358490567"
      ]
     },
     "execution_count": 51,
     "metadata": {},
     "output_type": "execute_result"
    }
   ],
   "source": [
    "ReadingAgeFourt = ReadingAge[ReadingAge[\"Age\"] == 14] \n",
    "ReadingAgeFourt['number_of_words'] = ReadingAgeFourt.Excerpt.apply(lambda x: len(x.split()))\n",
    "ReadingAgeFourt['number_of_words'].mean()"
   ]
  },
  {
   "cell_type": "code",
   "execution_count": 52,
   "metadata": {},
   "outputs": [
    {
     "name": "stderr",
     "output_type": "stream",
     "text": [
      "<ipython-input-52-56965d2800c1>:1: SettingWithCopyWarning: \n",
      "A value is trying to be set on a copy of a slice from a DataFrame.\n",
      "Try using .loc[row_indexer,col_indexer] = value instead\n",
      "\n",
      "See the caveats in the documentation: https://pandas.pydata.org/pandas-docs/stable/user_guide/indexing.html#returning-a-view-versus-a-copy\n",
      "  ReadingAgeFourt['tokenized_sents'] = ReadingAgeFourt.apply(lambda row: nltk.sent_tokenize(row['Excerpt']), axis=1)\n",
      "<ipython-input-52-56965d2800c1>:2: SettingWithCopyWarning: \n",
      "A value is trying to be set on a copy of a slice from a DataFrame.\n",
      "Try using .loc[row_indexer,col_indexer] = value instead\n",
      "\n",
      "See the caveats in the documentation: https://pandas.pydata.org/pandas-docs/stable/user_guide/indexing.html#returning-a-view-versus-a-copy\n",
      "  ReadingAgeFourt['len_tokens'] = ReadingAgeFourt['tokenized_sents'].apply(lambda x: len(x))\n"
     ]
    },
    {
     "data": {
      "text/plain": [
       "6.134433962264151"
      ]
     },
     "execution_count": 52,
     "metadata": {},
     "output_type": "execute_result"
    }
   ],
   "source": [
    "ReadingAgeFourt['tokenized_sents'] = ReadingAgeFourt.apply(lambda row: nltk.sent_tokenize(row['Excerpt']), axis=1)\n",
    "ReadingAgeFourt['len_tokens'] = ReadingAgeFourt['tokenized_sents'].apply(lambda x: len(x))\n",
    "ReadingAgeFourt['len_tokens'].mean()"
   ]
  },
  {
   "cell_type": "code",
   "execution_count": 53,
   "metadata": {},
   "outputs": [
    {
     "name": "stderr",
     "output_type": "stream",
     "text": [
      "<ipython-input-53-63979cd2e6ff>:2: SettingWithCopyWarning: \n",
      "A value is trying to be set on a copy of a slice from a DataFrame.\n",
      "Try using .loc[row_indexer,col_indexer] = value instead\n",
      "\n",
      "See the caveats in the documentation: https://pandas.pydata.org/pandas-docs/stable/user_guide/indexing.html#returning-a-view-versus-a-copy\n",
      "  ReadingAgeFivet['number_of_words'] = ReadingAgeFivet.Excerpt.apply(lambda x: len(x.split()))\n"
     ]
    },
    {
     "data": {
      "text/plain": [
       "83.7375"
      ]
     },
     "execution_count": 53,
     "metadata": {},
     "output_type": "execute_result"
    }
   ],
   "source": [
    "ReadingAgeFivet = ReadingAge[ReadingAge[\"Age\"] == 15] \n",
    "ReadingAgeFivet['number_of_words'] = ReadingAgeFivet.Excerpt.apply(lambda x: len(x.split()))\n",
    "ReadingAgeFivet['number_of_words'].mean()"
   ]
  },
  {
   "cell_type": "code",
   "execution_count": 54,
   "metadata": {},
   "outputs": [
    {
     "name": "stderr",
     "output_type": "stream",
     "text": [
      "<ipython-input-54-c5e2c67ea192>:1: SettingWithCopyWarning: \n",
      "A value is trying to be set on a copy of a slice from a DataFrame.\n",
      "Try using .loc[row_indexer,col_indexer] = value instead\n",
      "\n",
      "See the caveats in the documentation: https://pandas.pydata.org/pandas-docs/stable/user_guide/indexing.html#returning-a-view-versus-a-copy\n",
      "  ReadingAgeFivet['tokenized_sents'] = ReadingAgeFivet.apply(lambda row: nltk.sent_tokenize(row['Excerpt']), axis=1)\n",
      "<ipython-input-54-c5e2c67ea192>:2: SettingWithCopyWarning: \n",
      "A value is trying to be set on a copy of a slice from a DataFrame.\n",
      "Try using .loc[row_indexer,col_indexer] = value instead\n",
      "\n",
      "See the caveats in the documentation: https://pandas.pydata.org/pandas-docs/stable/user_guide/indexing.html#returning-a-view-versus-a-copy\n",
      "  ReadingAgeFivet['len_tokens'] = ReadingAgeFivet['tokenized_sents'].apply(lambda x: len(x))\n"
     ]
    },
    {
     "data": {
      "text/plain": [
       "7.14375"
      ]
     },
     "execution_count": 54,
     "metadata": {},
     "output_type": "execute_result"
    }
   ],
   "source": [
    "ReadingAgeFivet['tokenized_sents'] = ReadingAgeFivet.apply(lambda row: nltk.sent_tokenize(row['Excerpt']), axis=1)\n",
    "ReadingAgeFivet['len_tokens'] = ReadingAgeFivet['tokenized_sents'].apply(lambda x: len(x))\n",
    "ReadingAgeFivet['len_tokens'].mean()"
   ]
  },
  {
   "cell_type": "code",
   "execution_count": 55,
   "metadata": {},
   "outputs": [
    {
     "name": "stderr",
     "output_type": "stream",
     "text": [
      "<ipython-input-55-bb3f67feff40>:2: SettingWithCopyWarning: \n",
      "A value is trying to be set on a copy of a slice from a DataFrame.\n",
      "Try using .loc[row_indexer,col_indexer] = value instead\n",
      "\n",
      "See the caveats in the documentation: https://pandas.pydata.org/pandas-docs/stable/user_guide/indexing.html#returning-a-view-versus-a-copy\n",
      "  ReadingAgeSixt['number_of_words'] = ReadingAgeSixt.Excerpt.apply(lambda x: len(x.split()))\n"
     ]
    },
    {
     "data": {
      "text/plain": [
       "78.01863354037268"
      ]
     },
     "execution_count": 55,
     "metadata": {},
     "output_type": "execute_result"
    }
   ],
   "source": [
    "ReadingAgeSixt = ReadingAge[ReadingAge[\"Age\"] == 16] \n",
    "ReadingAgeSixt['number_of_words'] = ReadingAgeSixt.Excerpt.apply(lambda x: len(x.split()))\n",
    "ReadingAgeSixt['number_of_words'].mean()"
   ]
  },
  {
   "cell_type": "code",
   "execution_count": 56,
   "metadata": {},
   "outputs": [
    {
     "name": "stderr",
     "output_type": "stream",
     "text": [
      "<ipython-input-56-f590e719a355>:1: SettingWithCopyWarning: \n",
      "A value is trying to be set on a copy of a slice from a DataFrame.\n",
      "Try using .loc[row_indexer,col_indexer] = value instead\n",
      "\n",
      "See the caveats in the documentation: https://pandas.pydata.org/pandas-docs/stable/user_guide/indexing.html#returning-a-view-versus-a-copy\n",
      "  ReadingAgeSixt['tokenized_sents'] = ReadingAgeSixt.apply(lambda row: nltk.sent_tokenize(row['Excerpt']), axis=1)\n",
      "<ipython-input-56-f590e719a355>:2: SettingWithCopyWarning: \n",
      "A value is trying to be set on a copy of a slice from a DataFrame.\n",
      "Try using .loc[row_indexer,col_indexer] = value instead\n",
      "\n",
      "See the caveats in the documentation: https://pandas.pydata.org/pandas-docs/stable/user_guide/indexing.html#returning-a-view-versus-a-copy\n",
      "  ReadingAgeSixt['len_tokens'] = ReadingAgeSixt['tokenized_sents'].apply(lambda x: len(x))\n"
     ]
    },
    {
     "data": {
      "text/plain": [
       "5.329192546583851"
      ]
     },
     "execution_count": 56,
     "metadata": {},
     "output_type": "execute_result"
    }
   ],
   "source": [
    "ReadingAgeSixt['tokenized_sents'] = ReadingAgeSixt.apply(lambda row: nltk.sent_tokenize(row['Excerpt']), axis=1)\n",
    "ReadingAgeSixt['len_tokens'] = ReadingAgeSixt['tokenized_sents'].apply(lambda x: len(x))\n",
    "ReadingAgeSixt['len_tokens'].mean()"
   ]
  }
 ],
 "metadata": {
  "kernelspec": {
   "display_name": "Python 3",
   "language": "python",
   "name": "python3"
  },
  "language_info": {
   "codemirror_mode": {
    "name": "ipython",
    "version": 3
   },
   "file_extension": ".py",
   "mimetype": "text/x-python",
   "name": "python",
   "nbconvert_exporter": "python",
   "pygments_lexer": "ipython3",
   "version": "3.8.5"
  }
 },
 "nbformat": 4,
 "nbformat_minor": 4
}
